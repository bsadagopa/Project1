{
 "cells": [
  {
   "cell_type": "code",
   "execution_count": null,
   "metadata": {},
   "outputs": [],
   "source": [
    "#import the libraries\n",
    "import pandas as pd\n",
    "import nltk\n",
    "from nltk.corpus import stopwords\n",
    "from nltk.tokenize import TweetTokenizer\n",
    "from nltk.stem import WordNetLemmatizer\n",
    "from nltk import sent_tokenize\n",
    "from string import punctuation\n",
    "from stop_words import get_stop_words\n",
    "\n",
    "# Define tokenizer\n",
    "tknzr = TweetTokenizer()"
   ]
  },
  {
   "cell_type": "code",
   "execution_count": null,
   "metadata": {},
   "outputs": [],
   "source": [
    "#remove the punctuation\n",
    "def remove_punctuation(chars):\n",
    "    return ''.join([c for c in chars if c not in punctuation])"
   ]
  },
  {
   "cell_type": "code",
   "execution_count": null,
   "metadata": {},
   "outputs": [],
   "source": [
    "#import our dataframe\n",
    "news_top_headlines_df.head()"
   ]
  },
  {
   "cell_type": "code",
   "execution_count": null,
   "metadata": {},
   "outputs": [],
   "source": [
    "# rename the dataframe for tokenizing\n",
    "df = news_top_headlines_df"
   ]
  },
  {
   "cell_type": "code",
   "execution_count": null,
   "metadata": {},
   "outputs": [],
   "source": [
    "# remove the stopwords\n",
    "swords = set(stopwords.words('english'))\n",
    "stopped = [token for token in tokens if token not in swords]\n",
    "\n",
    "# append more stopwords\n",
    "#remove_words = ['the', 'an', 'a', 'is', 'i', 'and', 'then', 'like', 'there', 'their']"
   ]
  },
  {
   "cell_type": "code",
   "execution_count": null,
   "metadata": {},
   "outputs": [],
   "source": [
    "#tokenize the text within the dataframe\n",
    "df.loc[:, 'text_split'] = df.text.map(sent_tokenize)"
   ]
  },
  {
   "cell_type": "code",
   "execution_count": null,
   "metadata": {},
   "outputs": [],
   "source": [
    "#get the text ready to analyze\n",
    "sentences = []\n",
    "for _, r in df.iterrows():\n",
    "    for s in r(\"title\").text_split:\n",
    "        filtered_words = [remove_punctuation(w) for w in s.split() if w.lower() not in remove_words]\n",
    "        # or using nltk.word_tokenize\n",
    "        # filtered_words = [w for w in word_tokenize(s) if w.lower() not in remove_words and w not in punctuation]\n",
    "        sentences.append({'News Channel': r.News_Channel, \n",
    "                          'Title': s.strip('.'), \n",
    "                          'Filtered Words': filtered_words})\n",
    "    wordfrq = r(\"title\").text_split()"
   ]
  },
  {
   "cell_type": "code",
   "execution_count": null,
   "metadata": {},
   "outputs": [],
   "source": [
    "#masterlist\n",
    "masterlist = []\n",
    "\n",
    "for channel in df:\n",
    "    masterlist.append({'News Channel': wordfrq})"
   ]
  },
  {
   "cell_type": "code",
   "execution_count": null,
   "metadata": {},
   "outputs": [],
   "source": [
    "#rename the dataframe\n",
    "df_words = pd.DataFrame(sentences)"
   ]
  },
  {
   "cell_type": "code",
   "execution_count": null,
   "metadata": {},
   "outputs": [],
   "source": [
    "#word freq (instead of stopped it could be wordfrq)\n",
    "fdist = FreqDist(wordfrq)\n",
    "print(fdist)"
   ]
  },
  {
   "cell_type": "code",
   "execution_count": null,
   "metadata": {},
   "outputs": [],
   "source": [
    "#tfidf"
   ]
  },
  {
   "cell_type": "code",
   "execution_count": null,
   "metadata": {},
   "outputs": [],
   "source": [
    "# Define stemmer\n",
    "stemmer = PorterStemmer()\n",
    "\n",
    "# Stem the words\n",
    "stemmed = [stemmer.stem(word) for word in stopped if type(word)==str]\n",
    "print(stemmed[1500:1600])"
   ]
  },
  {
   "cell_type": "code",
   "execution_count": null,
   "metadata": {},
   "outputs": [],
   "source": [
    "# Define lemmatizer\n",
    "lemmatizer = WordNetLemmatizer()\n",
    "\n",
    "# Lemmatize\n",
    "lemm = [lemmatizer.lemmatize(word) for word in stopped if type(word)==str]\n",
    "print(lemm[1500:1600])\n",
    "\n",
    "lemmedString = \"\".join(lemm)"
   ]
  },
  {
   "cell_type": "code",
   "execution_count": null,
   "metadata": {},
   "outputs": [],
   "source": [
    "# Print Lemmatized String\n",
    "print(lemmedString)"
   ]
  },
  {
   "cell_type": "code",
   "execution_count": null,
   "metadata": {},
   "outputs": [],
   "source": [
    "#thematic analysis"
   ]
  },
  {
   "cell_type": "code",
   "execution_count": null,
   "metadata": {},
   "outputs": [],
   "source": [
    "#word_cloud"
   ]
  },
  {
   "cell_type": "code",
   "execution_count": null,
   "metadata": {},
   "outputs": [],
   "source": [
    "#start the vader analysis\n",
    "#run the vader on the orginal text\n",
    "#import vader\n",
    "from vaderSentiment.vaderSentiment import SentimentIntensityAnalyzer\n",
    "analyser = SentimentIntensityAnalyzer()"
   ]
  }
 ],
 "metadata": {
  "kernelspec": {
   "display_name": "Python 3",
   "language": "python",
   "name": "python3"
  },
  "language_info": {
   "codemirror_mode": {
    "name": "ipython",
    "version": 3
   },
   "file_extension": ".py",
   "mimetype": "text/x-python",
   "name": "python",
   "nbconvert_exporter": "python",
   "pygments_lexer": "ipython3",
   "version": "3.6.4"
  }
 },
 "nbformat": 4,
 "nbformat_minor": 2
}
