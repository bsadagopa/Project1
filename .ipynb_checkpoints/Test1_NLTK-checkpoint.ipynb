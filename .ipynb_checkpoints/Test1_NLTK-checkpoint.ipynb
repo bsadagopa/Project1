{
 "cells": [
  {
   "cell_type": "code",
   "execution_count": null,
   "metadata": {},
   "outputs": [],
   "source": [
    "#import the libraries\n",
    "import pandas as pd\n",
    "import nltk\n",
    "from nltk import sent_tokenize\n",
    "from string import punctuation"
   ]
  },
  {
   "cell_type": "code",
   "execution_count": null,
   "metadata": {},
   "outputs": [],
   "source": [
    "# remove the stopwords\n",
    "remove_words = ['the', 'an', 'a', 'is', 'i', 'and', 'then', 'like', 'there', 'their']"
   ]
  },
  {
   "cell_type": "code",
   "execution_count": null,
   "metadata": {},
   "outputs": [],
   "source": [
    "#remove the punctuation\n",
    "def remove_punctuation(chars):\n",
    "    return ''.join([c for c in chars if c not in punctuation])"
   ]
  },
  {
   "cell_type": "code",
   "execution_count": null,
   "metadata": {},
   "outputs": [],
   "source": [
    "#import our dataframe\n",
    "df ="
   ]
  },
  {
   "cell_type": "code",
   "execution_count": null,
   "metadata": {},
   "outputs": [],
   "source": [
    "#tokenize the text within the dataframe\n",
    "df.loc[:, 'text_split'] = df.text.map(sent_tokenize)"
   ]
  },
  {
   "cell_type": "code",
   "execution_count": null,
   "metadata": {},
   "outputs": [],
   "source": [
    "#get the text ready to analyze\n",
    "sentences = []\n",
    "for _, r in df.iterrows():\n",
    "    for s in r(\"Headline\").text_split:\n",
    "        filtered_words = [remove_punctuation(w) for w in s.split() if w.lower() not in remove_words]\n",
    "        # or using nltk.word_tokenize\n",
    "        # filtered_words = [w for w in word_tokenize(s) if w.lower() not in remove_words and w not in punctuation]\n",
    "        sentences.append({'sent_id': r.sent_id, \n",
    "                          'text': s.strip('.'), \n",
    "                          'words': filtered_words})\n",
    "    wordfrq = r(\"Headline\").text_split()"
   ]
  },
  {
   "cell_type": "code",
   "execution_count": null,
   "metadata": {},
   "outputs": [],
   "source": [
    "#masterlist\n",
    "masterlist = []\n",
    "\n",
    "for channel in df:\n",
    "    masterlist.append({'Channel': wordfrq})"
   ]
  },
  {
   "cell_type": "code",
   "execution_count": null,
   "metadata": {},
   "outputs": [],
   "source": [
    "#rename the dataframe\n",
    "df_words = pd.DataFrame(sentences)"
   ]
  },
  {
   "cell_type": "code",
   "execution_count": null,
   "metadata": {},
   "outputs": [],
   "source": [
    "#word_cloud\n",
    "#word freq\n",
    "freq = nltk.FreqDist(wordfrq)\n",
    "#tfidf\n",
    "#stemming\n",
    "#limitization\n",
    "#thematic analysis"
   ]
  },
  {
   "cell_type": "code",
   "execution_count": null,
   "metadata": {},
   "outputs": [],
   "source": [
    "#start the vader analysis\n",
    "#run the vader on the orginal text\n",
    "#import vader\n",
    "from vaderSentiment.vaderSentiment import SentimentIntensityAnalyzer\n",
    "analyser = SentimentIntensityAnalyzer()"
   ]
  }
 ],
 "metadata": {
  "kernelspec": {
   "display_name": "Python 3",
   "language": "python",
   "name": "python3"
  },
  "language_info": {
   "codemirror_mode": {
    "name": "ipython",
    "version": 3
   },
   "file_extension": ".py",
   "mimetype": "text/x-python",
   "name": "python",
   "nbconvert_exporter": "python",
   "pygments_lexer": "ipython3",
   "version": "3.6.4"
  }
 },
 "nbformat": 4,
 "nbformat_minor": 2
}
